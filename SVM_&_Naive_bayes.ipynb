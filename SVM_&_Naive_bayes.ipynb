{
  "nbformat": 4,
  "nbformat_minor": 0,
  "metadata": {
    "colab": {
      "provenance": []
    },
    "kernelspec": {
      "name": "python3",
      "display_name": "Python 3"
    },
    "language_info": {
      "name": "python"
    }
  },
  "cells": [
    {
      "cell_type": "code",
      "execution_count": 29,
      "metadata": {
        "id": "zyyVeM-ugQJ5"
      },
      "outputs": [],
      "source": [
        "# Theory"
      ]
    },
    {
      "cell_type": "markdown",
      "source": [
        "\n",
        "\n",
        "### 1. What is a Support Vector Machine (SVM)?\n",
        "\n",
        "A **Support Vector Machine (SVM)** is a supervised machine learning algorithm used for classification and regression tasks. It finds the **optimal hyperplane** that separates data points of different classes with the maximum margin. The margin is the distance between the hyperplane and the nearest data points from each class. The data points that lie closest to the decision boundary (hyperplane) are called **support vectors**. SVM aims to maximize this margin, which leads to better generalization on unseen data.\n",
        "\n",
        "---\n",
        "\n",
        "### 2. What is the difference between Hard Margin and Soft Margin SVM?\n",
        "\n",
        "* **Hard Margin SVM**: Assumes that the data is **linearly separable** without any errors. It tries to find a hyperplane that perfectly separates the classes with no points inside the margin or misclassified. It works well when data is clean and noise-free but fails if the data is not perfectly separable.\n",
        "\n",
        "* **Soft Margin SVM**: Allows some **misclassifications or margin violations** to handle noisy or overlapping data. It introduces a penalty parameter **C** that controls the trade-off between maximizing the margin and minimizing the classification error. This makes soft margin SVM more flexible and practical for real-world, non-separable data.\n",
        "\n",
        "---\n",
        "\n",
        "### 3. What is the mathematical intuition behind SVM?\n",
        "\n",
        "Mathematically, SVM tries to solve the following optimization problem:\n",
        "\n",
        "$$\n",
        "\\min_{\\mathbf{w}, b} \\frac{1}{2} \\|\\mathbf{w}\\|^2\n",
        "$$\n",
        "\n",
        "subject to:\n",
        "\n",
        "$$\n",
        "y_i(\\mathbf{w} \\cdot \\mathbf{x}_i + b) \\geq 1, \\quad \\forall i\n",
        "$$\n",
        "\n",
        "Where:\n",
        "\n",
        "* $\\mathbf{w}$ is the normal vector to the hyperplane.\n",
        "* $b$ is the bias term.\n",
        "* $\\mathbf{x}_i$ is the input vector.\n",
        "* $y_i \\in \\{-1, 1\\}$ is the class label.\n",
        "\n",
        "The objective is to **minimize the norm of $\\mathbf{w}$** (which maximizes the margin) while correctly classifying all training samples with a margin of at least 1.\n",
        "\n",
        "For non-linearly separable data, slack variables $\\xi_i$ and a penalty term $C$ are introduced, modifying constraints to:\n",
        "\n",
        "$$\n",
        "y_i(\\mathbf{w} \\cdot \\mathbf{x}_i + b) \\geq 1 - \\xi_i, \\quad \\xi_i \\geq 0\n",
        "$$\n",
        "\n",
        "and the objective becomes minimizing:\n",
        "\n",
        "$$\n",
        "\\frac{1}{2} \\|\\mathbf{w}\\|^2 + C \\sum_i \\xi_i\n",
        "$$\n",
        "\n",
        "---\n",
        "\n",
        "### 4. What is the role of Lagrange Multipliers in SVM?\n",
        "\n",
        "Lagrange multipliers are used to solve the constrained optimization problem of SVM by converting it into its **dual form**. They allow incorporating the constraints into the objective function by introducing multipliers $\\alpha_i$ for each constraint:\n",
        "\n",
        "$$\n",
        "L(\\mathbf{w}, b, \\alpha) = \\frac{1}{2}\\|\\mathbf{w}\\|^2 - \\sum_i \\alpha_i [y_i(\\mathbf{w} \\cdot \\mathbf{x}_i + b) - 1]\n",
        "$$\n",
        "\n",
        "This helps in:\n",
        "\n",
        "* Finding the support vectors (data points with $\\alpha_i > 0$).\n",
        "* Computing the weights $\\mathbf{w}$ as a combination of training points.\n",
        "* Enabling the use of kernel functions in the dual problem for non-linear classification.\n",
        "\n",
        "---\n",
        "\n",
        "### 5. What are Support Vectors in SVM?\n",
        "\n",
        "**Support vectors** are the subset of training samples that lie closest to the decision boundary (hyperplane). They are critical because:\n",
        "\n",
        "* They define the position and orientation of the hyperplane.\n",
        "* Removing other points that are not support vectors does not change the decision boundary.\n",
        "* Their corresponding Lagrange multipliers $\\alpha_i$ are non-zero.\n",
        "\n",
        "---\n",
        "\n",
        "### 6. What is a Support Vector Classifier (SVC)?\n",
        "\n",
        "A **Support Vector Classifier (SVC)** is the implementation of SVM used for classification tasks. It finds the optimal hyperplane that separates classes in the feature space, using soft margins if necessary, to handle non-linearly separable data.\n",
        "\n",
        "---\n",
        "\n",
        "### 7. What is a Support Vector Regressor (SVR)?\n",
        "\n",
        "A **Support Vector Regressor (SVR)** extends the principles of SVM to regression problems. Instead of finding a hyperplane to separate classes, SVR fits a function within a margin of tolerance $\\epsilon$ around the true values and tries to minimize the error outside this margin, thus balancing model complexity and prediction accuracy.\n",
        "\n",
        "---\n",
        "\n",
        "### 8. What is the Kernel Trick in SVM?\n",
        "\n",
        "The **Kernel Trick** allows SVM to perform **non-linear classification** by implicitly mapping data into a higher-dimensional feature space without explicitly computing coordinates in that space. It replaces the dot product $\\mathbf{x_i} \\cdot \\mathbf{x_j}$ with a kernel function $K(\\mathbf{x_i}, \\mathbf{x_j})$, such as:\n",
        "\n",
        "* Linear kernel\n",
        "* Polynomial kernel\n",
        "* Radial Basis Function (RBF) kernel\n",
        "\n",
        "This trick enables SVM to find non-linear decision boundaries efficiently.\n",
        "\n",
        "---\n",
        "\n",
        "### 9. Compare Linear Kernel, Polynomial Kernel, and RBF Kernel\n",
        "\n",
        "| Kernel                | Description                                                                       | Use Case                                                                               |\n",
        "| --------------------- | --------------------------------------------------------------------------------- | -------------------------------------------------------------------------------------- |\n",
        "| **Linear Kernel**     | $K(\\mathbf{x_i}, \\mathbf{x_j}) = \\mathbf{x_i} \\cdot \\mathbf{x_j}$ (dot product)   | When data is linearly separable or high-dimensional                                    |\n",
        "| **Polynomial Kernel** | $K(\\mathbf{x_i}, \\mathbf{x_j}) = (\\gamma \\mathbf{x_i} \\cdot \\mathbf{x_j} + r)^d$  | When data has polynomial relationships; allows curved boundaries                       |\n",
        "| **RBF Kernel**        | $K(\\mathbf{x_i}, \\mathbf{x_j}) = \\exp(-\\gamma \\|\\mathbf{x_i} - \\mathbf{x_j}\\|^2)$ | Highly flexible; maps to infinite-dimensional space; good for complex, non-linear data |\n",
        "\n",
        "---\n",
        "\n",
        "### 10. What is the effect of the C parameter in SVM?\n",
        "\n",
        "* **C** is the regularization parameter that controls the trade-off between a **large margin** and **classification error**.\n",
        "* **Large C**: The model tries to classify all training examples correctly, allowing less margin violations but risking overfitting.\n",
        "* **Small C**: Allows more margin violations for better generalization but might increase training error.\n",
        "\n",
        "---\n",
        "\n",
        "### 11. What is the role of the Gamma parameter in RBF Kernel SVM?\n",
        "\n",
        "* **Gamma ($\\gamma$)** controls the influence of a single training example.\n",
        "* **Low gamma**: Large variance; points far away from the decision boundary influence it; smoother decision boundary.\n",
        "* **High gamma**: Small variance; points need to be very close to influence the boundary; leads to more complex boundaries and potential overfitting.\n",
        "\n",
        "---\n",
        "\n",
        "### 12. What is the Naïve Bayes classifier, and why is it called \"Naïve\"?\n",
        "\n",
        "**Naïve Bayes** is a probabilistic classifier based on **Bayes’ theorem** assuming **independence among features**. It calculates the probability of each class given the features and assigns the class with the highest posterior probability.\n",
        "\n",
        "It is called **\"Naïve\"** because it assumes that all features are **independent**, which is rarely true in real-world data but simplifies the computation drastically.\n",
        "\n",
        "---\n",
        "\n",
        "### 13. What is Bayes’ Theorem?\n",
        "\n",
        "Bayes' theorem states:\n",
        "\n",
        "$$\n",
        "P(C|X) = \\frac{P(X|C) \\cdot P(C)}{P(X)}\n",
        "$$\n",
        "\n",
        "Where:\n",
        "\n",
        "* $P(C|X)$: Posterior probability of class $C$ given features $X$.\n",
        "* $P(X|C)$: Likelihood of features $X$ given class $C$.\n",
        "* $P(C)$: Prior probability of class $C$.\n",
        "* $P(X)$: Evidence (probability of features $X$).\n",
        "\n",
        "It provides a way to update the probability estimate for a hypothesis as more evidence is available.\n",
        "\n",
        "---\n",
        "\n",
        "### 14. Explain the differences between Gaussian Naïve Bayes, Multinomial Naïve Bayes, and Bernoulli Naïve Bayes\n",
        "\n",
        "| Variant            | Data Type             | Assumptions                                    | Use Cases                                |\n",
        "| ------------------ | --------------------- | ---------------------------------------------- | ---------------------------------------- |\n",
        "| **Gaussian NB**    | Continuous features   | Features follow Gaussian (normal) distribution | Sensor data, continuous-valued features  |\n",
        "| **Multinomial NB** | Discrete counts       | Features represent frequencies or counts       | Text classification (word counts)        |\n",
        "| **Bernoulli NB**   | Binary features (0/1) | Features are binary (presence/absence)         | Text classification with binary features |\n",
        "\n",
        "---\n",
        "\n",
        "### 15. When should you use Gaussian Naïve Bayes over other variants?\n",
        "\n",
        "Use **Gaussian Naïve Bayes** when features are **continuous** and roughly follow a normal distribution, such as in sensor data or numerical datasets without discrete counts.\n",
        "\n",
        "---\n",
        "\n",
        "### 16. What are the key assumptions made by Naïve Bayes?\n",
        "\n",
        "* **Feature independence**: All features are conditionally independent given the class.\n",
        "* **Feature distribution**: Each feature follows a specific distribution (e.g., Gaussian for Gaussian NB).\n",
        "* **Class prior probabilities** are known or estimated from the training data.\n",
        "\n",
        "---\n",
        "\n",
        "### 17. What are the advantages and disadvantages of Naïve Bayes?\n",
        "\n",
        "**Advantages:**\n",
        "\n",
        "* Simple, fast, and easy to implement.\n",
        "* Performs well with small training data.\n",
        "* Works well with high-dimensional data.\n",
        "* Robust to irrelevant features.\n",
        "\n",
        "**Disadvantages:**\n",
        "\n",
        "* Strong independence assumption is often unrealistic.\n",
        "* Poor estimates of actual probabilities.\n",
        "* Not suitable if feature dependencies matter a lot.\n",
        "\n",
        "---\n",
        "\n",
        "### 18. Why is Naïve Bayes a good choice for text classification?\n",
        "\n",
        "* Handles **high-dimensional** sparse data efficiently.\n",
        "* Assumes **independent word occurrence**, which is reasonable in many text classification tasks.\n",
        "* Works well with **discrete features** like word counts or presence/absence of words.\n",
        "* Fast training and prediction speed on large text corpora.\n",
        "\n",
        "---\n",
        "\n",
        "### 19. Compare SVM and Naïve Bayes for classification tasks\n",
        "\n",
        "| Aspect           | SVM                                                                 | Naïve Bayes                                        |\n",
        "| ---------------- | ------------------------------------------------------------------- | -------------------------------------------------- |\n",
        "| Assumptions      | No independence assumption; works well on complex boundaries        | Assumes conditional independence of features       |\n",
        "| Model Type       | Margin-based classifier                                             | Probabilistic classifier                           |\n",
        "| Data Suitability | Works well with numeric, complex data; sensitive to feature scaling | Works well with categorical/discrete data and text |\n",
        "| Complexity       | Higher computational cost; training can be slow                     | Fast and scalable                                  |\n",
        "| Performance      | Often more accurate in practice                                     | Good baseline, especially in text                  |\n",
        "| Interpretability | Moderate; kernel trick can make it hard                             | Simple to interpret probabilities                  |\n",
        "\n",
        "---\n",
        "\n",
        "### 20. How does Laplace Smoothing help in Naïve Bayes?\n",
        "\n",
        "Laplace smoothing (also called add-one smoothing) **adds a small positive constant (usually 1) to all feature counts** to prevent zero probabilities for unseen features in the training data. Without smoothing, if a feature never appears with a certain class, its probability becomes zero, and the product in Naïve Bayes leads to zero overall probability, causing misclassification.\n",
        "\n",
        "---\n",
        "\n"
      ],
      "metadata": {
        "id": "lT99KbtKmRu0"
      }
    },
    {
      "cell_type": "code",
      "source": [
        "# Pratical\n"
      ],
      "metadata": {
        "id": "p5RMLZt3mMHy"
      },
      "execution_count": null,
      "outputs": []
    },
    {
      "cell_type": "code",
      "source": [
        "# question 01\n",
        "from sklearn import datasets\n",
        "from sklearn.svm import SVC\n",
        "from sklearn.model_selection import train_test_split\n",
        "from sklearn.metrics import accuracy_score\n",
        "\n",
        "# Load Iris dataset\n",
        "iris = datasets.load_iris()\n",
        "X, y = iris.data, iris.target\n",
        "\n",
        "# Split dataset\n",
        "X_train, X_test, y_train, y_test = train_test_split(X, y, test_size=0.3, random_state=42)\n",
        "\n",
        "# Train SVM classifier\n",
        "svm = SVC()\n",
        "svm.fit(X_train, y_train)\n",
        "\n",
        "# Predict and evaluate\n",
        "y_pred = svm.predict(X_test)\n",
        "print(\"Accuracy on Iris dataset:\", accuracy_score(y_test, y_pred))\n"
      ],
      "metadata": {
        "colab": {
          "base_uri": "https://localhost:8080/"
        },
        "id": "KPkhvU9FggGX",
        "outputId": "af0dbe74-3ced-44d0-be1e-0d9222905f85"
      },
      "execution_count": 1,
      "outputs": [
        {
          "output_type": "stream",
          "name": "stdout",
          "text": [
            "Accuracy on Iris dataset: 1.0\n"
          ]
        }
      ]
    },
    {
      "cell_type": "code",
      "source": [
        "# question 03\n",
        "from sklearn.datasets import fetch_california_housing\n",
        "from sklearn.svm import SVR\n",
        "from sklearn.model_selection import train_test_split\n",
        "from sklearn.metrics import mean_squared_error\n",
        "\n",
        "housing = fetch_california_housing()\n",
        "X, y = housing.data, housing.target\n",
        "\n",
        "X_train, X_test, y_train, y_test = train_test_split(X, y, test_size=0.3, random_state=42)\n",
        "\n",
        "svr = SVR()\n",
        "svr.fit(X_train, y_train)\n",
        "\n",
        "y_pred = svr.predict(X_test)\n",
        "mse = mean_squared_error(y_test, y_pred)\n",
        "\n",
        "print(f\"Mean Squared Error on Housing dataset: {mse:.4f}\")\n"
      ],
      "metadata": {
        "colab": {
          "base_uri": "https://localhost:8080/"
        },
        "id": "OSrH5gkPhSH9",
        "outputId": "82284349-2f23-4566-9a06-80c9416d02fc"
      },
      "execution_count": 3,
      "outputs": [
        {
          "output_type": "stream",
          "name": "stdout",
          "text": [
            "Mean Squared Error on Housing dataset: 1.3490\n"
          ]
        }
      ]
    },
    {
      "cell_type": "markdown",
      "source": [],
      "metadata": {
        "id": "-GoW703TmIoR"
      }
    },
    {
      "cell_type": "code",
      "source": [
        "# question 04\n",
        "import numpy as np\n",
        "import matplotlib.pyplot as plt\n",
        "from sklearn import datasets\n",
        "from sklearn.svm import SVC\n",
        "\n",
        "# Use only first two features for visualization\n",
        "X, y = datasets.load_iris(return_X_y=True)\n",
        "X = X[:, :2]\n",
        "\n",
        "svm_poly = SVC(kernel='poly', degree=3, C=1)\n",
        "svm_poly.fit(X, y)\n",
        "\n",
        "# Create a mesh grid\n",
        "x_min, x_max = X[:, 0].min() - 1, X[:, 0].max() + 1\n",
        "y_min, y_max = X[:, 1].min() - 1, X[:, 1].max() + 1\n",
        "xx, yy = np.meshgrid(np.arange(x_min, x_max, 0.02),\n",
        "                     np.arange(y_min, y_max, 0.02))\n",
        "\n",
        "Z = svm_poly.predict(np.c_[xx.ravel(), yy.ravel()])\n",
        "Z = Z.reshape(xx.shape)\n",
        "\n",
        "plt.contourf(xx, yy, Z, alpha=0.3)\n",
        "plt.scatter(X[:, 0], X[:, 1], c=y, edgecolors='k')\n",
        "plt.title('SVM with Polynomial Kernel Decision Boundary')\n",
        "plt.xlabel('Feature 1')\n",
        "plt.ylabel('Feature 2')\n",
        "plt.show()\n"
      ],
      "metadata": {
        "colab": {
          "base_uri": "https://localhost:8080/",
          "height": 472
        },
        "id": "VyOicsevhWam",
        "outputId": "45ee7748-dee6-4ffd-eddc-fd0724fefa13"
      },
      "execution_count": 4,
      "outputs": [
        {
          "output_type": "display_data",
          "data": {
            "text/plain": [
              "<Figure size 640x480 with 1 Axes>"
            ],
            "image/png": "[encoded data removed]"
          },
          "metadata": {}
        }
      ]
    },
    {
      "cell_type": "code",
      "source": [
        "# question 05\n",
        "from sklearn.datasets import load_breast_cancer\n",
        "from sklearn.naive_bayes import GaussianNB\n",
        "from sklearn.model_selection import train_test_split\n",
        "from sklearn.metrics import accuracy_score\n",
        "\n",
        "data = load_breast_cancer()\n",
        "X, y = data.data, data.target\n",
        "\n",
        "X_train, X_test, y_train, y_test = train_test_split(X, y, test_size=0.3, random_state=42)\n",
        "\n",
        "gnb = GaussianNB()\n",
        "gnb.fit(X_train, y_train)\n",
        "y_pred = gnb.predict(X_test)\n",
        "\n",
        "print(\"Accuracy of Gaussian Naïve Bayes on Breast Cancer dataset:\", accuracy_score(y_test, y_pred))\n"
      ],
      "metadata": {
        "colab": {
          "base_uri": "https://localhost:8080/"
        },
        "id": "-LlvGxdRhch0",
        "outputId": "debedd4d-1765-4b56-d3e6-3a1005074895"
      },
      "execution_count": 5,
      "outputs": [
        {
          "output_type": "stream",
          "name": "stdout",
          "text": [
            "Accuracy of Gaussian Naïve Bayes on Breast Cancer dataset: 0.9415204678362573\n"
          ]
        }
      ]
    },
    {
      "cell_type": "code",
      "source": [
        "# question 06\n",
        "from sklearn.datasets import fetch_20newsgroups\n",
        "from sklearn.feature_extraction.text import CountVectorizer\n",
        "from sklearn.naive_bayes import MultinomialNB\n",
        "from sklearn.model_selection import train_test_split\n",
        "from sklearn.metrics import accuracy_score\n",
        "\n",
        "# Load dataset\n",
        "newsgroups = fetch_20newsgroups(subset='all')\n",
        "X, y = newsgroups.data, newsgroups.target\n",
        "\n",
        "# Vectorize text\n",
        "vectorizer = CountVectorizer(stop_words='english')\n",
        "X_vec = vectorizer.fit_transform(X)\n",
        "\n",
        "X_train, X_test, y_train, y_test = train_test_split(X_vec, y, test_size=0.3, random_state=42)\n",
        "\n",
        "mnb = MultinomialNB()\n",
        "mnb.fit(X_train, y_train)\n",
        "\n",
        "y_pred = mnb.predict(X_test)\n",
        "print(\"Accuracy of Multinomial Naïve Bayes on 20 Newsgroups:\", accuracy_score(y_test, y_pred))\n"
      ],
      "metadata": {
        "colab": {
          "base_uri": "https://localhost:8080/"
        },
        "id": "E2YEnY5khiz7",
        "outputId": "50805871-4003-4669-bb50-7fcf0493d851"
      },
      "execution_count": 6,
      "outputs": [
        {
          "output_type": "stream",
          "name": "stdout",
          "text": [
            "Accuracy of Multinomial Naïve Bayes on 20 Newsgroups: 0.8749557835160948\n"
          ]
        }
      ]
    },
    {
      "cell_type": "code",
      "source": [
        "# question 07\n",
        "import numpy as np\n",
        "import matplotlib.pyplot as plt\n",
        "from sklearn import datasets\n",
        "from sklearn.svm import SVC\n",
        "\n",
        "# Load 2D Iris data (first two features)\n",
        "X, y = datasets.load_iris(return_X_y=True)\n",
        "X = X[:, :2]\n",
        "\n",
        "# Define different C values\n",
        "C_values = [0.1, 1, 10]\n",
        "\n",
        "# Plot decision boundaries for each C\n",
        "plt.figure(figsize=(15, 4))\n",
        "x_min, x_max = X[:, 0].min() - 1, X[:, 0].max() + 1\n",
        "y_min, y_max = X[:, 1].min() - 1, X[:, 1].max() + 1\n",
        "xx, yy = np.meshgrid(np.linspace(x_min, x_max, 300),\n",
        "                     np.linspace(y_min, y_max, 300))\n",
        "\n",
        "for i, C in enumerate(C_values, 1):\n",
        "    svm = SVC(C=C, kernel='linear')\n",
        "    svm.fit(X, y)\n",
        "    Z = svm.predict(np.c_[xx.ravel(), yy.ravel()])\n",
        "    Z = Z.reshape(xx.shape)\n",
        "\n",
        "    plt.subplot(1, len(C_values), i)\n",
        "    plt.contourf(xx, yy, Z, alpha=0.3)\n",
        "    plt.scatter(X[:, 0], X[:, 1], c=y, edgecolor='k')\n",
        "    plt.title(f\"SVM Decision Boundary with C={C}\")\n",
        "    plt.xlabel('Feature 1')\n",
        "    plt.ylabel('Feature 2')\n",
        "\n",
        "plt.tight_layout()\n",
        "plt.show()\n"
      ],
      "metadata": {
        "colab": {
          "base_uri": "https://localhost:8080/",
          "height": 387
        },
        "id": "ADg-2bt1hnWW",
        "outputId": "9c2dd9d8-f402-4b54-cd26-50e71dfc0c7f"
      },
      "execution_count": 7,
      "outputs": [
        {
          "output_type": "display_data",
          "data": {
            "text/plain": [
              "<Figure size 1500x400 with 3 Axes>"
            ],
            "image/png": "[encoded data removed]"
          },
          "metadata": {}
        }
      ]
    },
    {
      "cell_type": "code",
      "source": [
        "# question 08\n",
        "from sklearn.naive_bayes import BernoulliNB\n",
        "from sklearn.datasets import make_classification\n",
        "from sklearn.model_selection import train_test_split\n",
        "from sklearn.metrics import accuracy_score\n",
        "\n",
        "# Generate synthetic binary dataset\n",
        "X, y = make_classification(n_samples=1000, n_features=10, n_informative=5,\n",
        "                           n_redundant=0, n_classes=2, random_state=42)\n",
        "# Binarize features (0 or 1)\n",
        "X = (X > 0).astype(int)\n",
        "\n",
        "X_train, X_test, y_train, y_test = train_test_split(X, y, test_size=0.3, random_state=42)\n",
        "\n",
        "bnb = BernoulliNB()\n",
        "bnb.fit(X_train, y_train)\n",
        "y_pred = bnb.predict(X_test)\n",
        "\n",
        "print(\"BernoulliNB Accuracy:\", accuracy_score(y_test, y_pred))\n"
      ],
      "metadata": {
        "colab": {
          "base_uri": "https://localhost:8080/"
        },
        "id": "cJOpxZAciJeM",
        "outputId": "fcd0a70a-8359-4b51-d96e-1d678d1da7e2"
      },
      "execution_count": 8,
      "outputs": [
        {
          "output_type": "stream",
          "name": "stdout",
          "text": [
            "BernoulliNB Accuracy: 0.6866666666666666\n"
          ]
        }
      ]
    },
    {
      "cell_type": "code",
      "source": [
        "# question 09\n",
        "from sklearn import datasets\n",
        "from sklearn.svm import SVC\n",
        "from sklearn.model_selection import train_test_split\n",
        "from sklearn.preprocessing import StandardScaler\n",
        "from sklearn.metrics import accuracy_score\n",
        "\n",
        "iris = datasets.load_iris()\n",
        "X, y = iris.data, iris.target\n",
        "\n",
        "X_train, X_test, y_train, y_test = train_test_split(X, y, test_size=0.3, random_state=42)\n",
        "\n",
        "# Without scaling\n",
        "svm_unscaled = SVC()\n",
        "svm_unscaled.fit(X_train, y_train)\n",
        "y_pred_unscaled = svm_unscaled.predict(X_test)\n",
        "acc_unscaled = accuracy_score(y_test, y_pred_unscaled)\n",
        "\n",
        "# With scaling\n",
        "scaler = StandardScaler()\n",
        "X_train_scaled = scaler.fit_transform(X_train)\n",
        "X_test_scaled = scaler.transform(X_test)\n",
        "\n",
        "svm_scaled = SVC()\n",
        "svm_scaled.fit(X_train_scaled, y_train)\n",
        "y_pred_scaled = svm_scaled.predict(X_test_scaled)\n",
        "acc_scaled = accuracy_score(y_test, y_pred_scaled)\n",
        "\n",
        "print(f\"Accuracy without scaling: {acc_unscaled:.4f}\")\n",
        "print(f\"Accuracy with scaling: {acc_scaled:.4f}\")\n"
      ],
      "metadata": {
        "colab": {
          "base_uri": "https://localhost:8080/"
        },
        "id": "iJtxjCJkiPqp",
        "outputId": "be1f7c10-5426-4385-a860-6b96a6264dd6"
      },
      "execution_count": 9,
      "outputs": [
        {
          "output_type": "stream",
          "name": "stdout",
          "text": [
            "Accuracy without scaling: 1.0000\n",
            "Accuracy with scaling: 1.0000\n"
          ]
        }
      ]
    },
    {
      "cell_type": "code",
      "source": [
        "# question 10\n",
        "from sklearn.datasets import load_breast_cancer\n",
        "from sklearn.naive_bayes import GaussianNB\n",
        "from sklearn.model_selection import train_test_split\n",
        "from sklearn.metrics import accuracy_score\n",
        "import numpy as np\n",
        "\n",
        "# Load dataset\n",
        "data = load_breast_cancer()\n",
        "X, y = data.data, data.target\n",
        "\n",
        "X_train, X_test, y_train, y_test = train_test_split(X, y, test_size=0.3, random_state=42)\n",
        "\n",
        "# GaussianNB default (no smoothing parameter for continuous data)\n",
        "gnb = GaussianNB()\n",
        "gnb.fit(X_train, y_train)\n",
        "y_pred_default = gnb.predict(X_test)\n",
        "\n",
        "# GaussianNB with var_smoothing parameter (acts as Laplace smoothing equivalent)\n",
        "gnb_smoothed = GaussianNB(var_smoothing=1e-8)\n",
        "gnb_smoothed.fit(X_train, y_train)\n",
        "y_pred_smoothed = gnb_smoothed.predict(X_test)\n",
        "\n",
        "acc_default = accuracy_score(y_test, y_pred_default)\n",
        "acc_smoothed = accuracy_score(y_test, y_pred_smoothed)\n",
        "\n",
        "print(f\"Accuracy without smoothing: {acc_default:.4f}\")\n",
        "print(f\"Accuracy with Laplace smoothing: {acc_smoothed:.4f}\")\n",
        "\n"
      ],
      "metadata": {
        "colab": {
          "base_uri": "https://localhost:8080/"
        },
        "id": "sL-3Ec8UiVd7",
        "outputId": "9aacabb5-fb10-4db2-807a-e912fe967fc3"
      },
      "execution_count": 10,
      "outputs": [
        {
          "output_type": "stream",
          "name": "stdout",
          "text": [
            "Accuracy without smoothing: 0.9415\n",
            "Accuracy with Laplace smoothing: 0.9532\n"
          ]
        }
      ]
    },
    {
      "cell_type": "code",
      "source": [
        "# question 11\n",
        "from sklearn import datasets\n",
        "from sklearn.svm import SVC\n",
        "from sklearn.model_selection import train_test_split, GridSearchCV\n",
        "from sklearn.metrics import accuracy_score\n",
        "\n",
        "iris = datasets.load_iris()\n",
        "X, y = iris.data, iris.target\n",
        "\n",
        "X_train, X_test, y_train, y_test = train_test_split(X, y, test_size=0.3, random_state=42)\n",
        "\n",
        "param_grid = {\n",
        "    'C': [0.1, 1, 10],\n",
        "    'gamma': ['scale', 'auto'],\n",
        "    'kernel': ['linear', 'rbf', 'poly']\n",
        "}\n",
        "\n",
        "svm = SVC()\n",
        "grid = GridSearchCV(svm, param_grid, cv=5)\n",
        "grid.fit(X_train, y_train)\n",
        "\n",
        "print(\"Best parameters:\", grid.best_params_)\n",
        "\n",
        "y_pred = grid.predict(X_test)\n",
        "print(\"Accuracy with GridSearchCV:\", accuracy_score(y_test, y_pred))\n"
      ],
      "metadata": {
        "colab": {
          "base_uri": "https://localhost:8080/"
        },
        "id": "qIcAJnDciZ97",
        "outputId": "822ba824-f3d1-48ed-a35b-71f304c60d85"
      },
      "execution_count": 11,
      "outputs": [
        {
          "output_type": "stream",
          "name": "stdout",
          "text": [
            "Best parameters: {'C': 1, 'gamma': 'scale', 'kernel': 'poly'}\n",
            "Accuracy with GridSearchCV: 0.9777777777777777\n"
          ]
        }
      ]
    },
    {
      "cell_type": "code",
      "source": [
        "#question 12\n",
        "from sklearn.datasets import make_classification\n",
        "from sklearn.svm import SVC\n",
        "from sklearn.model_selection import train_test_split\n",
        "from sklearn.metrics import accuracy_score, classification_report\n",
        "\n",
        "# Create imbalanced dataset\n",
        "X, y = make_classification(n_samples=1000, n_features=20, n_classes=2,\n",
        "                           weights=[0.9, 0.1], flip_y=0, random_state=42)\n",
        "\n",
        "X_train, X_test, y_train, y_test = train_test_split(X, y, test_size=0.3, random_state=42)\n",
        "\n",
        "# Train SVM without class weights\n",
        "svm = SVC()\n",
        "svm.fit(X_train, y_train)\n",
        "y_pred = svm.predict(X_test)\n",
        "acc_no_weight = accuracy_score(y_test, y_pred)\n",
        "\n",
        "# Train SVM with class weights balanced\n",
        "svm_weighted = SVC(class_weight='balanced')\n",
        "svm_weighted.fit(X_train, y_train)\n",
        "y_pred_weighted = svm_weighted.predict(X_test)\n",
        "acc_weighted = accuracy_score(y_test, y_pred_weighted)\n",
        "\n",
        "print(f\"Accuracy without class weights: {acc_no_weight:.4f}\")\n",
        "print(f\"Accuracy with class weights balanced: {acc_weighted:.4f}\")\n",
        "print(\"\\nClassification report with class weights:\")\n",
        "print(classification_report(y_test, y_pred_weighted))\n",
        "\n",
        "\n"
      ],
      "metadata": {
        "colab": {
          "base_uri": "https://localhost:8080/"
        },
        "id": "JLxVfqz3ifC8",
        "outputId": "f9dda8af-eaec-4abb-a2c2-75c55bce66a5"
      },
      "execution_count": 13,
      "outputs": [
        {
          "output_type": "stream",
          "name": "stdout",
          "text": [
            "Accuracy without class weights: 0.9367\n",
            "Accuracy with class weights balanced: 0.9200\n",
            "\n",
            "Classification report with class weights:\n",
            "              precision    recall  f1-score   support\n",
            "\n",
            "           0       0.97      0.95      0.96       275\n",
            "           1       0.52      0.64      0.57        25\n",
            "\n",
            "    accuracy                           0.92       300\n",
            "   macro avg       0.74      0.79      0.76       300\n",
            "weighted avg       0.93      0.92      0.92       300\n",
            "\n"
          ]
        }
      ]
    },
    {
      "cell_type": "code",
      "source": [
        "# question 13\n",
        "from sklearn.datasets import fetch_openml\n",
        "from sklearn.model_selection import train_test_split\n",
        "from sklearn.feature_extraction.text import CountVectorizer\n",
        "from sklearn.naive_bayes import MultinomialNB\n",
        "from sklearn.metrics import accuracy_score\n",
        "\n",
        "# Fetch spam dataset from openml (Spambase dataset)\n",
        "data = fetch_openml(\"spambase\", version=1, as_frame=True)\n",
        "X = data.data\n",
        "y = data.target.astype(int)\n",
        "\n",
        "# Split dataset\n",
        "X_train, X_test, y_train, y_test = train_test_split(X, y, test_size=0.3, random_state=42)\n",
        "\n",
        "# Train Multinomial Naive Bayes (features already numeric)\n",
        "nb = MultinomialNB()\n",
        "nb.fit(X_train, y_train)\n",
        "y_pred = nb.predict(X_test)\n",
        "\n",
        "print(f\"Spam Detection Accuracy: {accuracy_score(y_test, y_pred):.4f}\")\n",
        "\n"
      ],
      "metadata": {
        "colab": {
          "base_uri": "https://localhost:8080/"
        },
        "id": "JCs2bg_nipSV",
        "outputId": "fb7322a3-c05b-4433-91a2-37a4cae683f4"
      },
      "execution_count": 14,
      "outputs": [
        {
          "output_type": "stream",
          "name": "stdout",
          "text": [
            "Spam Detection Accuracy: 0.7820\n"
          ]
        }
      ]
    },
    {
      "cell_type": "code",
      "source": [
        "# question 14\n",
        "from sklearn import datasets\n",
        "from sklearn.svm import SVC\n",
        "from sklearn.naive_bayes import GaussianNB\n",
        "from sklearn.model_selection import train_test_split\n",
        "from sklearn.metrics import accuracy_score\n",
        "\n",
        "iris = datasets.load_iris()\n",
        "X, y = iris.data, iris.target\n",
        "\n",
        "X_train, X_test, y_train, y_test = train_test_split(X, y, test_size=0.3, random_state=42)\n",
        "\n",
        "# SVM Classifier\n",
        "svm = SVC()\n",
        "svm.fit(X_train, y_train)\n",
        "y_pred_svm = svm.predict(X_test)\n",
        "\n",
        "# Gaussian Naive Bayes Classifier\n",
        "gnb = GaussianNB()\n",
        "gnb.fit(X_train, y_train)\n",
        "y_pred_gnb = gnb.predict(X_test)\n",
        "\n",
        "print(f\"SVM Accuracy: {accuracy_score(y_test, y_pred_svm):.4f}\")\n",
        "print(f\"Gaussian Naive Bayes Accuracy: {accuracy_score(y_test, y_pred_gnb):.4f}\")\n",
        "\n"
      ],
      "metadata": {
        "colab": {
          "base_uri": "https://localhost:8080/"
        },
        "id": "RDoAT02jjtQh",
        "outputId": "a5ef6a24-f9ad-4532-dc8e-4a8d9e923fc6"
      },
      "execution_count": 15,
      "outputs": [
        {
          "output_type": "stream",
          "name": "stdout",
          "text": [
            "SVM Accuracy: 1.0000\n",
            "Gaussian Naive Bayes Accuracy: 0.9778\n"
          ]
        }
      ]
    },
    {
      "cell_type": "code",
      "source": [
        "# question 15\n",
        "from sklearn import datasets\n",
        "from sklearn.naive_bayes import GaussianNB\n",
        "from sklearn.feature_selection import SelectKBest, f_classif\n",
        "from sklearn.model_selection import train_test_split\n",
        "from sklearn.metrics import accuracy_score\n",
        "\n",
        "iris = datasets.load_iris()\n",
        "X, y = iris.data, iris.target\n",
        "\n",
        "# Split dataset\n",
        "X_train, X_test, y_train, y_test = train_test_split(X, y, test_size=0.3, random_state=42)\n",
        "\n",
        "# Feature selection: Select top 2 features\n",
        "selector = SelectKBest(score_func=f_classif, k=2)\n",
        "X_train_selected = selector.fit_transform(X_train, y_train)\n",
        "X_test_selected = selector.transform(X_test)\n",
        "\n",
        "# Train Naive Bayes on original data\n",
        "gnb_full = GaussianNB()\n",
        "gnb_full.fit(X_train, y_train)\n",
        "y_pred_full = gnb_full.predict(X_test)\n",
        "\n",
        "# Train Naive Bayes on selected features\n",
        "gnb_selected = GaussianNB()\n",
        "gnb_selected.fit(X_train_selected, y_train)\n",
        "y_pred_selected = gnb_selected.predict(X_test_selected)\n",
        "\n",
        "print(f\"Accuracy with all features: {accuracy_score(y_test, y_pred_full):.4f}\")\n",
        "print(f\"Accuracy with selected features: {accuracy_score(y_test, y_pred_selected):.4f}\")\n",
        "\n",
        "\n"
      ],
      "metadata": {
        "colab": {
          "base_uri": "https://localhost:8080/"
        },
        "id": "ejYzwk7Vj3OM",
        "outputId": "e617d2f9-f40a-459c-9826-b5a58cb7fe81"
      },
      "execution_count": 16,
      "outputs": [
        {
          "output_type": "stream",
          "name": "stdout",
          "text": [
            "Accuracy with all features: 0.9778\n",
            "Accuracy with selected features: 1.0000\n"
          ]
        }
      ]
    },
    {
      "cell_type": "code",
      "source": [
        "#question 16\n",
        "from sklearn import datasets\n",
        "from sklearn.svm import SVC\n",
        "from sklearn.multiclass import OneVsRestClassifier, OneVsOneClassifier\n",
        "from sklearn.model_selection import train_test_split\n",
        "from sklearn.metrics import accuracy_score\n",
        "\n",
        "wine = datasets.load_wine()\n",
        "X, y = wine.data, wine.target\n",
        "\n",
        "X_train, X_test, y_train, y_test = train_test_split(X, y, test_size=0.3, random_state=42)\n",
        "\n",
        "# One-vs-Rest\n",
        "ovr = OneVsRestClassifier(SVC())\n",
        "ovr.fit(X_train, y_train)\n",
        "y_pred_ovr = ovr.predict(X_test)\n",
        "\n",
        "# One-vs-One\n",
        "ovo = OneVsOneClassifier(SVC())\n",
        "ovo.fit(X_train, y_train)\n",
        "y_pred_ovo = ovo.predict(X_test)\n",
        "\n",
        "print(f\"OvR Accuracy: {accuracy_score(y_test, y_pred_ovr):.4f}\")\n",
        "print(f\"OvO Accuracy: {accuracy_score(y_test, y_pred_ovo):.4f}\")\n"
      ],
      "metadata": {
        "colab": {
          "base_uri": "https://localhost:8080/"
        },
        "id": "8PTg1lAcj-Ag",
        "outputId": "317be528-472d-459d-f14e-d8f864a5c280"
      },
      "execution_count": 17,
      "outputs": [
        {
          "output_type": "stream",
          "name": "stdout",
          "text": [
            "OvR Accuracy: 0.7222\n",
            "OvO Accuracy: 0.7963\n"
          ]
        }
      ]
    },
    {
      "cell_type": "code",
      "source": [
        "# question 17\n",
        "from sklearn import datasets\n",
        "from sklearn.svm import SVC\n",
        "from sklearn.model_selection import train_test_split\n",
        "from sklearn.metrics import accuracy_score\n",
        "\n",
        "data = datasets.load_breast_cancer()\n",
        "X, y = data.data, data.target\n",
        "\n",
        "X_train, X_test, y_train, y_test = train_test_split(X, y, test_size=0.3, random_state=42)\n",
        "\n",
        "kernels = ['linear', 'poly', 'rbf']\n",
        "for kernel in kernels:\n",
        "    svm = SVC(kernel=kernel)\n",
        "    svm.fit(X_train, y_train)\n",
        "    y_pred = svm.predict(X_test)\n",
        "    print(f\"Accuracy with {kernel} kernel: {accuracy_score(y_test, y_pred):.4f}\")\n"
      ],
      "metadata": {
        "colab": {
          "base_uri": "https://localhost:8080/"
        },
        "id": "k7egmg0dkCNr",
        "outputId": "46145947-6cf7-4bf7-b687-047de115bc5b"
      },
      "execution_count": 18,
      "outputs": [
        {
          "output_type": "stream",
          "name": "stdout",
          "text": [
            "Accuracy with linear kernel: 0.9649\n",
            "Accuracy with poly kernel: 0.9415\n",
            "Accuracy with rbf kernel: 0.9357\n"
          ]
        }
      ]
    },
    {
      "cell_type": "code",
      "source": [
        "# question 18\n",
        "from sklearn import datasets\n",
        "from sklearn.svm import SVC\n",
        "from sklearn.model_selection import StratifiedKFold\n",
        "from sklearn.metrics import accuracy_score\n",
        "import numpy as np\n",
        "\n",
        "data = datasets.load_iris()\n",
        "X, y = data.data, data.target\n",
        "\n",
        "skf = StratifiedKFold(n_splits=5)\n",
        "accuracies = []\n",
        "\n",
        "for train_index, test_index in skf.split(X, y):\n",
        "    X_train, X_test = X[train_index], X[test_index]\n",
        "    y_train, y_test = y[train_index], y[test_index]\n",
        "    svm = SVC()\n",
        "    svm.fit(X_train, y_train)\n",
        "    y_pred = svm.predict(X_test)\n",
        "    accuracies.append(accuracy_score(y_test, y_pred))\n",
        "\n",
        "print(f\"Average accuracy (Stratified K-Fold CV): {np.mean(accuracies):.4f}\")\n",
        "\n"
      ],
      "metadata": {
        "colab": {
          "base_uri": "https://localhost:8080/"
        },
        "id": "HK5O2NASkIos",
        "outputId": "5f3af613-27d0-4970-ccde-a0037ca641a7"
      },
      "execution_count": 19,
      "outputs": [
        {
          "output_type": "stream",
          "name": "stdout",
          "text": [
            "Average accuracy (Stratified K-Fold CV): 0.9667\n"
          ]
        }
      ]
    },
    {
      "cell_type": "code",
      "source": [
        "# question 19\n",
        "from sklearn.datasets import load_iris\n",
        "from sklearn.naive_bayes import GaussianNB\n",
        "from sklearn.model_selection import train_test_split\n",
        "from sklearn.metrics import accuracy_score\n",
        "\n",
        "data = load_iris()\n",
        "X, y = data.data, data.target\n",
        "\n",
        "X_train, X_test, y_train, y_test = train_test_split(X, y, test_size=0.3, random_state=42)\n",
        "\n",
        "# Default priors (learned from data)\n",
        "gnb_default = GaussianNB()\n",
        "gnb_default.fit(X_train, y_train)\n",
        "y_pred_default = gnb_default.predict(X_test)\n",
        "acc_default = accuracy_score(y_test, y_pred_default)\n",
        "\n",
        "# Custom priors (example: uniform)\n",
        "priors = [1/3, 1/3, 1/3]\n",
        "gnb_prior = GaussianNB(priors=priors)\n",
        "gnb_prior.fit(X_train, y_train)\n",
        "y_pred_prior = gnb_prior.predict(X_test)\n",
        "acc_prior = accuracy_score(y_test, y_pred_prior)\n",
        "\n",
        "print(f\"Accuracy with default priors: {acc_default:.4f}\")\n",
        "print(f\"Accuracy with uniform priors: {acc_prior:.4f}\")\n",
        "\n"
      ],
      "metadata": {
        "colab": {
          "base_uri": "https://localhost:8080/"
        },
        "id": "regciAdCkMOO",
        "outputId": "94168e47-97c9-4c9b-d5bf-aba86c1b361f"
      },
      "execution_count": 20,
      "outputs": [
        {
          "output_type": "stream",
          "name": "stdout",
          "text": [
            "Accuracy with default priors: 0.9778\n",
            "Accuracy with uniform priors: 0.9778\n"
          ]
        }
      ]
    },
    {
      "cell_type": "code",
      "source": [
        "# question 20\n",
        "from sklearn import datasets\n",
        "from sklearn.svm import SVC\n",
        "from sklearn.feature_selection import RFE\n",
        "from sklearn.model_selection import train_test_split\n",
        "from sklearn.metrics import accuracy_score\n",
        "\n",
        "data = datasets.load_wine()\n",
        "X, y = data.data, data.target\n",
        "\n",
        "X_train, X_test, y_train, y_test = train_test_split(X, y, test_size=0.3, random_state=42)\n",
        "\n",
        "# Without feature selection\n",
        "svm = SVC()\n",
        "svm.fit(X_train, y_train)\n",
        "y_pred = svm.predict(X_test)\n",
        "acc_full = accuracy_score(y_test, y_pred)\n",
        "\n",
        "# With RFE selecting 5 features\n",
        "selector = RFE(SVC(kernel='linear'), n_features_to_select=5)\n",
        "selector.fit(X_train, y_train)\n",
        "X_train_rfe = selector.transform(X_train)\n",
        "X_test_rfe = selector.transform(X_test)\n",
        "\n",
        "svm_rfe = SVC()\n",
        "svm_rfe.fit(X_train_rfe, y_train)\n",
        "y_pred_rfe = svm_rfe.predict(X_test_rfe)\n",
        "acc_rfe = accuracy_score(y_test, y_pred_rfe)\n",
        "\n",
        "print(f\"Accuracy without RFE: {acc_full:.4f}\")\n",
        "print(f\"Accuracy with RFE: {acc_rfe:.4f}\")\n"
      ],
      "metadata": {
        "colab": {
          "base_uri": "https://localhost:8080/"
        },
        "id": "1W1aH73_kPZH",
        "outputId": "a5c845ea-4d18-42b7-d484-bdec879ef15b"
      },
      "execution_count": 21,
      "outputs": [
        {
          "output_type": "stream",
          "name": "stdout",
          "text": [
            "Accuracy without RFE: 0.7593\n",
            "Accuracy with RFE: 0.9259\n"
          ]
        }
      ]
    },
    {
      "cell_type": "code",
      "source": [
        "#question 21\n",
        "from sklearn import datasets\n",
        "from sklearn.svm import SVC\n",
        "from sklearn.model_selection import train_test_split\n",
        "from sklearn.metrics import precision_score, recall_score, f1_score\n",
        "\n",
        "data = datasets.load_breast_cancer()\n",
        "X, y = data.data, data.target\n",
        "\n",
        "X_train, X_test, y_train, y_test = train_test_split(X, y, test_size=0.3, random_state=42)\n",
        "\n",
        "svm = SVC()\n",
        "svm.fit(X_train, y_train)\n",
        "y_pred = svm.predict(X_test)\n",
        "\n",
        "precision = precision_score(y_test, y_pred)\n",
        "recall = recall_score(y_test, y_pred)\n",
        "f1 = f1_score(y_test, y_pred)\n",
        "\n",
        "print(f\"Precision: {precision:.4f}\")\n",
        "print(f\"Recall: {recall:.4f}\")\n",
        "print(f\"F1-Score: {f1:.4f}\")\n"
      ],
      "metadata": {
        "colab": {
          "base_uri": "https://localhost:8080/"
        },
        "id": "iUVwXe1PkSn4",
        "outputId": "0c8e35dd-3e45-43de-d299-5fd7bff945e2"
      },
      "execution_count": 22,
      "outputs": [
        {
          "output_type": "stream",
          "name": "stdout",
          "text": [
            "Precision: 0.9076\n",
            "Recall: 1.0000\n",
            "F1-Score: 0.9515\n"
          ]
        }
      ]
    },
    {
      "cell_type": "code",
      "source": [
        "# question 22\n",
        "from sklearn import datasets\n",
        "from sklearn.naive_bayes import GaussianNB\n",
        "from sklearn.model_selection import train_test_split\n",
        "from sklearn.metrics import log_loss\n",
        "\n",
        "data = datasets.load_iris()\n",
        "X, y = data.data, data.target\n",
        "\n",
        "X_train, X_test, y_train, y_test = train_test_split(X, y, test_size=0.3, random_state=42)\n",
        "\n",
        "nb = GaussianNB()\n",
        "nb.fit(X_train, y_train)\n",
        "y_proba = nb.predict_proba(X_test)\n",
        "\n",
        "loss = log_loss(y_test, y_proba)\n",
        "print(f\"Log Loss: {loss:.4f}\")\n"
      ],
      "metadata": {
        "colab": {
          "base_uri": "https://localhost:8080/"
        },
        "id": "9zS81nmXkX2Z",
        "outputId": "333a3afa-1aad-4ceb-fcba-03ceb110ba6e"
      },
      "execution_count": 23,
      "outputs": [
        {
          "output_type": "stream",
          "name": "stdout",
          "text": [
            "Log Loss: 0.0490\n"
          ]
        }
      ]
    },
    {
      "cell_type": "code",
      "source": [
        "# question 23\n",
        "import seaborn as sns\n",
        "import matplotlib.pyplot as plt\n",
        "from sklearn import datasets\n",
        "from sklearn.svm import SVC\n",
        "from sklearn.model_selection import train_test_split\n",
        "from sklearn.metrics import confusion_matrix\n",
        "\n",
        "data = datasets.load_digits()\n",
        "X, y = data.data, data.target\n",
        "\n",
        "X_train, X_test, y_train, y_test = train_test_split(X, y, test_size=0.3, random_state=42)\n",
        "\n",
        "svm = SVC()\n",
        "svm.fit(X_train, y_train)\n",
        "y_pred = svm.predict(X_test)\n",
        "\n",
        "cm = confusion_matrix(y_test, y_pred)\n",
        "\n",
        "plt.figure(figsize=(8,6))\n",
        "sns.heatmap(cm, annot=True, fmt='d', cmap='Blues')\n",
        "plt.title('Confusion Matrix - SVM Classifier')\n",
        "plt.xlabel('Predicted')\n",
        "plt.ylabel('Actual')\n",
        "plt.show()\n"
      ],
      "metadata": {
        "colab": {
          "base_uri": "https://localhost:8080/",
          "height": 564
        },
        "id": "Rb7dnIfSkci5",
        "outputId": "b12ca79f-beab-4379-8099-dc860fcc067b"
      },
      "execution_count": 24,
      "outputs": [
        {
          "output_type": "display_data",
          "data": {
            "text/plain": [
              "<Figure size 800x600 with 2 Axes>"
            ],
            "image/png": "[encoded data removed]"
          },
          "metadata": {}
        }
      ]
    },
    {
      "cell_type": "code",
      "source": [
        "# question 24\n",
        "from sklearn.datasets import load_boston\n",
        "from sklearn.svm import SVR\n",
        "from sklearn.model_selection import train_test_split\n",
        "from sklearn.metrics import mean_absolute_error\n",
        "\n",
        "# Boston housing dataset deprecated, using California housing instead\n",
        "from sklearn.datasets import fetch_california_housing\n",
        "data = fetch_california_housing()\n",
        "X, y = data.data, data.target\n",
        "\n",
        "X_train, X_test, y_train, y_test = train_test_split(X, y, test_size=0.3, random_state=42)\n",
        "\n",
        "svr = SVR()\n",
        "svr.fit(X_train, y_train)\n",
        "y_pred = svr.predict(X_test)\n",
        "\n",
        "mae = mean_absolute_error(y_test, y_pred)\n",
        "print(f\"Mean Absolute Error (MAE): {mae:.4f}\")\n"
      ],
      "metadata": {
        "colab": {
          "base_uri": "https://localhost:8080/",
          "height": 1000
        },
        "id": "rQcVcw27kgRA",
        "outputId": "a2dcbc7a-27d1-4043-904b-158164c96ce8"
      },
      "execution_count": 25,
      "outputs": [
        {
          "output_type": "error",
          "ename": "ImportError",
          "evalue": "\n`load_boston` has been removed from scikit-learn since version 1.2.\n\nThe Boston housing prices dataset has an ethical problem: as\ninvestigated in [1], the authors of this dataset engineered a\nnon-invertible variable \"B\" assuming that racial self-segregation had a\npositive impact on house prices [2]. Furthermore the goal of the\nresearch that led to the creation of this dataset was to study the\nimpact of air quality but it did not give adequate demonstration of the\nvalidity of this assumption.\n\nThe scikit-learn maintainers therefore strongly discourage the use of\nthis dataset unless the purpose of the code is to study and educate\nabout ethical issues in data science and machine learning.\n\nIn this special case, you can fetch the dataset from the original\nsource::\n\n    import pandas as pd\n    import numpy as np\n\n    data_url = \"http://lib.stat.cmu.edu/datasets/boston\"\n    raw_df = pd.read_csv(data_url, sep=\"\\s+\", skiprows=22, header=None)\n    data = np.hstack([raw_df.values[::2, :], raw_df.values[1::2, :2]])\n    target = raw_df.values[1::2, 2]\n\nAlternative datasets include the California housing dataset and the\nAmes housing dataset. You can load the datasets as follows::\n\n    from sklearn.datasets import fetch_california_housing\n    housing = fetch_california_housing()\n\nfor the California housing dataset and::\n\n    from sklearn.datasets import fetch_openml\n    housing = fetch_openml(name=\"house_prices\", as_frame=True)\n\nfor the Ames housing dataset.\n\n[1] M Carlisle.\n\"Racist data destruction?\"\n<https://medium.com/@docintangible/racist-data-destruction-113e3eff54a8>\n\n[2] Harrison Jr, David, and Daniel L. Rubinfeld.\n\"Hedonic housing prices and the demand for clean air.\"\nJournal of environmental economics and management 5.1 (1978): 81-102.\n<https://www.researchgate.net/publication/4974606_Hedonic_housing_prices_and_the_demand_for_clean_air>\n",
          "traceback": [
            "\u001b[0;31m---------------------------------------------------------------------------\u001b[0m",
            "\u001b[0;31mImportError\u001b[0m                               Traceback (most recent call last)",
            "\u001b[0;32m<ipython-input-25-2e840f9e3881>\u001b[0m in \u001b[0;36m<cell line: 0>\u001b[0;34m()\u001b[0m\n\u001b[1;32m      1\u001b[0m \u001b[0;31m# question 24\u001b[0m\u001b[0;34m\u001b[0m\u001b[0;34m\u001b[0m\u001b[0m\n\u001b[0;32m----> 2\u001b[0;31m \u001b[0;32mfrom\u001b[0m \u001b[0msklearn\u001b[0m\u001b[0;34m.\u001b[0m\u001b[0mdatasets\u001b[0m \u001b[0;32mimport\u001b[0m \u001b[0mload_boston\u001b[0m\u001b[0;34m\u001b[0m\u001b[0;34m\u001b[0m\u001b[0m\n\u001b[0m\u001b[1;32m      3\u001b[0m \u001b[0;32mfrom\u001b[0m \u001b[0msklearn\u001b[0m\u001b[0;34m.\u001b[0m\u001b[0msvm\u001b[0m \u001b[0;32mimport\u001b[0m \u001b[0mSVR\u001b[0m\u001b[0;34m\u001b[0m\u001b[0;34m\u001b[0m\u001b[0m\n\u001b[1;32m      4\u001b[0m \u001b[0;32mfrom\u001b[0m \u001b[0msklearn\u001b[0m\u001b[0;34m.\u001b[0m\u001b[0mmodel_selection\u001b[0m \u001b[0;32mimport\u001b[0m \u001b[0mtrain_test_split\u001b[0m\u001b[0;34m\u001b[0m\u001b[0;34m\u001b[0m\u001b[0m\n\u001b[1;32m      5\u001b[0m \u001b[0;32mfrom\u001b[0m \u001b[0msklearn\u001b[0m\u001b[0;34m.\u001b[0m\u001b[0mmetrics\u001b[0m \u001b[0;32mimport\u001b[0m \u001b[0mmean_absolute_error\u001b[0m\u001b[0;34m\u001b[0m\u001b[0;34m\u001b[0m\u001b[0m\n",
            "\u001b[0;32m/usr/local/lib/python3.11/dist-packages/sklearn/datasets/__init__.py\u001b[0m in \u001b[0;36m__getattr__\u001b[0;34m(name)\u001b[0m\n\u001b[1;32m    159\u001b[0m             \"\"\"\n\u001b[1;32m    160\u001b[0m         )\n\u001b[0;32m--> 161\u001b[0;31m         \u001b[0;32mraise\u001b[0m \u001b[0mImportError\u001b[0m\u001b[0;34m(\u001b[0m\u001b[0mmsg\u001b[0m\u001b[0;34m)\u001b[0m\u001b[0;34m\u001b[0m\u001b[0;34m\u001b[0m\u001b[0m\n\u001b[0m\u001b[1;32m    162\u001b[0m     \u001b[0;32mtry\u001b[0m\u001b[0;34m:\u001b[0m\u001b[0;34m\u001b[0m\u001b[0;34m\u001b[0m\u001b[0m\n\u001b[1;32m    163\u001b[0m         \u001b[0;32mreturn\u001b[0m \u001b[0mglobals\u001b[0m\u001b[0;34m(\u001b[0m\u001b[0;34m)\u001b[0m\u001b[0;34m[\u001b[0m\u001b[0mname\u001b[0m\u001b[0;34m]\u001b[0m\u001b[0;34m\u001b[0m\u001b[0;34m\u001b[0m\u001b[0m\n",
            "\u001b[0;31mImportError\u001b[0m: \n`load_boston` has been removed from scikit-learn since version 1.2.\n\nThe Boston housing prices dataset has an ethical problem: as\ninvestigated in [1], the authors of this dataset engineered a\nnon-invertible variable \"B\" assuming that racial self-segregation had a\npositive impact on house prices [2]. Furthermore the goal of the\nresearch that led to the creation of this dataset was to study the\nimpact of air quality but it did not give adequate demonstration of the\nvalidity of this assumption.\n\nThe scikit-learn maintainers therefore strongly discourage the use of\nthis dataset unless the purpose of the code is to study and educate\nabout ethical issues in data science and machine learning.\n\nIn this special case, you can fetch the dataset from the original\nsource::\n\n    import pandas as pd\n    import numpy as np\n\n    data_url = \"http://lib.stat.cmu.edu/datasets/boston\"\n    raw_df = pd.read_csv(data_url, sep=\"\\s+\", skiprows=22, header=None)\n    data = np.hstack([raw_df.values[::2, :], raw_df.values[1::2, :2]])\n    target = raw_df.values[1::2, 2]\n\nAlternative datasets include the California housing dataset and the\nAmes housing dataset. You can load the datasets as follows::\n\n    from sklearn.datasets import fetch_california_housing\n    housing = fetch_california_housing()\n\nfor the California housing dataset and::\n\n    from sklearn.datasets import fetch_openml\n    housing = fetch_openml(name=\"house_prices\", as_frame=True)\n\nfor the Ames housing dataset.\n\n[1] M Carlisle.\n\"Racist data destruction?\"\n<https://medium.com/@docintangible/racist-data-destruction-113e3eff54a8>\n\n[2] Harrison Jr, David, and Daniel L. Rubinfeld.\n\"Hedonic housing prices and the demand for clean air.\"\nJournal of environmental economics and management 5.1 (1978): 81-102.\n<https://www.researchgate.net/publication/4974606_Hedonic_housing_prices_and_the_demand_for_clean_air>\n",
            "",
            "\u001b[0;31m---------------------------------------------------------------------------\u001b[0;32m\nNOTE: If your import is failing due to a missing package, you can\nmanually install dependencies using either !pip or !apt.\n\nTo view examples of installing some common dependencies, click the\n\"Open Examples\" button below.\n\u001b[0;31m---------------------------------------------------------------------------\u001b[0m\n"
          ],
          "errorDetails": {
            "actions": [
              {
                "action": "open_url",
                "actionText": "Open Examples",
                "url": "/notebooks/snippets/importing_libraries.ipynb"
              }
            ]
          }
        }
      ]
    },
    {
      "cell_type": "code",
      "source": [
        "# question 25\n",
        "from sklearn import datasets\n",
        "from sklearn.naive_bayes import GaussianNB\n",
        "from sklearn.model_selection import train_test_split\n",
        "from sklearn.metrics import roc_auc_score\n",
        "from sklearn.preprocessing import label_binarize\n",
        "\n",
        "data = datasets.load_breast_cancer()\n",
        "X, y = data.data, data.target\n",
        "\n",
        "X_train, X_test, y_train, y_test = train_test_split(X, y, test_size=0.3, random_state=42)\n",
        "\n",
        "nb = GaussianNB()\n",
        "nb.fit(X_train, y_train)\n",
        "y_proba = nb.predict_proba(X_test)[:, 1]\n",
        "\n",
        "auc = roc_auc_score(y_test, y_proba)\n",
        "print(f\"ROC-AUC Score: {auc:.4f}\")\n"
      ],
      "metadata": {
        "colab": {
          "base_uri": "https://localhost:8080/"
        },
        "id": "ry8gFPxaklp5",
        "outputId": "769f98cf-6bfa-49f2-8db9-a24ac422dea8"
      },
      "execution_count": 26,
      "outputs": [
        {
          "output_type": "stream",
          "name": "stdout",
          "text": [
            "ROC-AUC Score: 0.9922\n"
          ]
        }
      ]
    },
    {
      "cell_type": "code",
      "source": [
        "# question 26\n",
        "import matplotlib.pyplot as plt\n",
        "from sklearn import datasets\n",
        "from sklearn.svm import SVC\n",
        "from sklearn.model_selection import train_test_split\n",
        "from sklearn.metrics import precision_recall_curve, average_precision_score\n",
        "\n",
        "data = datasets.load_breast_cancer()\n",
        "X, y = data.data, data.target\n",
        "\n",
        "X_train, X_test, y_train, y_test = train_test_split(X, y, test_size=0.3, random_state=42)\n",
        "\n",
        "svm = SVC(probability=True)\n",
        "svm.fit(X_train, y_train)\n",
        "y_scores = svm.predict_proba(X_test)[:, 1]\n",
        "\n",
        "precision, recall, _ = precision_recall_curve(y_test, y_scores)\n",
        "avg_precision = average_precision_score(y_test, y_scores)\n",
        "\n",
        "plt.figure()\n",
        "plt.step(recall, precision, where='post')\n",
        "plt.xlabel('Recall')\n",
        "plt.ylabel('Precision')\n",
        "plt.title(f'Precision-Recall Curve (AP={avg_precision:.4f})')\n",
        "plt.show()\n"
      ],
      "metadata": {
        "colab": {
          "base_uri": "https://localhost:8080/",
          "height": 472
        },
        "id": "JsaLCcBkkq2K",
        "outputId": "428544e2-664a-4df0-b830-11b16a6394d2"
      },
      "execution_count": 27,
      "outputs": [
        {
          "output_type": "display_data",
          "data": {
            "text/plain": [
              "<Figure size 640x480 with 1 Axes>"
            ],
            "image/png": "[encoded data removed]"
          },
          "metadata": {}
        }
      ]
    },
    {
      "cell_type": "code",
      "source": [
        "\n"
      ],
      "metadata": {
        "id": "0nm9jI-TkvEw"
      },
      "execution_count": null,
      "outputs": []
    }
  ]
}